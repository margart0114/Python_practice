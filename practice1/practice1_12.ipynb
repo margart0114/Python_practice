{
 "cells": [
  {
   "cell_type": "code",
   "execution_count": 46,
   "id": "732a1cc1",
   "metadata": {},
   "outputs": [],
   "source": [
    "# mode =\"r\" 讀取\n",
    "# mode =\"w\" 覆寫\n",
    "# mode =\"a\" 在原先的資料後寫東西\n",
    "\n",
    "\n",
    "file = open (\"123.txt\",mode=\"a\", encoding=\"utf-8\")\n",
    "file.write(\"\\n你好\")\n",
    "file.close()\n",
    "\n",
    "with open (\"123.txt\", mode=\"a\", encoding=\"utf-8\") as file:\n",
    "    file.write(\"\\n開心\")"
   ]
  },
  {
   "cell_type": "code",
   "execution_count": null,
   "id": "a0d67571",
   "metadata": {},
   "outputs": [],
   "source": []
  }
 ],
 "metadata": {
  "kernelspec": {
   "display_name": "chihlee1",
   "language": "python",
   "name": "python3"
  },
  "language_info": {
   "codemirror_mode": {
    "name": "ipython",
    "version": 3
   },
   "file_extension": ".py",
   "mimetype": "text/x-python",
   "name": "python",
   "nbconvert_exporter": "python",
   "pygments_lexer": "ipython3",
   "version": "3.10.17"
  }
 },
 "nbformat": 4,
 "nbformat_minor": 5
}
