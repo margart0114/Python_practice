{
 "cells": [
  {
   "cell_type": "code",
   "execution_count": 4,
   "id": "d0f255c4",
   "metadata": {},
   "outputs": [
    {
     "name": "stdout",
     "output_type": "stream",
     "text": [
      "1\n",
      "2\n",
      "3\n",
      "4\n",
      "5\n",
      "迴圈結束\n"
     ]
    }
   ],
   "source": [
    "# while 迴圈\n",
    "\n",
    "i = 1\n",
    "while i<=5:\n",
    "    print(i)\n",
    "    i += 1\n",
    "\n",
    "print(\"迴圈結束\")"
   ]
  },
  {
   "cell_type": "code",
   "execution_count": 11,
   "id": "96aedc74",
   "metadata": {},
   "outputs": [
    {
     "name": "stdout",
     "output_type": "stream",
     "text": [
      "再小一點\n",
      "再大一點\n",
      "恭喜你猜中了，遊戲結束了\n"
     ]
    }
   ],
   "source": [
    "#猜數字遊戲\n",
    "\n",
    "secret_num = 77\n",
    "guess = None\n",
    "guess_count = 0\n",
    "guess_limit = 3\n",
    "out_of_limit = False\n",
    "\n",
    "while secret_num != guess and not (out_of_limit):\n",
    "    guess_count += 1\n",
    "    if guess_count <= guess_limit:\n",
    "        guess = int(input(\"請輸入數字: \"))\n",
    "        if guess > secret_num:\n",
    "            print(\"再小一點\")\n",
    "        elif guess < secret_num: \n",
    "            print(\"再大一點\") \n",
    "    else: \n",
    "        out_of_limit = True\n",
    "        print(\"\")\n",
    "\n",
    "if out_of_limit:\n",
    "    print(\"你輸了\")\n",
    "else:\n",
    "    print(\"恭喜你猜中了，遊戲結束了\")"
   ]
  }
 ],
 "metadata": {
  "kernelspec": {
   "display_name": "base",
   "language": "python",
   "name": "python3"
  },
  "language_info": {
   "codemirror_mode": {
    "name": "ipython",
    "version": 3
   },
   "file_extension": ".py",
   "mimetype": "text/x-python",
   "name": "python",
   "nbconvert_exporter": "python",
   "pygments_lexer": "ipython3",
   "version": "3.13.2"
  }
 },
 "nbformat": 4,
 "nbformat_minor": 5
}
