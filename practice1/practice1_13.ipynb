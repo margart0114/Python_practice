{
 "cells": [
  {
   "cell_type": "code",
   "execution_count": 16,
   "id": "b72dba2f",
   "metadata": {},
   "outputs": [
    {
     "name": "stdout",
     "output_type": "stream",
     "text": [
      "['c:\\\\Users\\\\Eva\\\\miniconda3\\\\envs\\\\chihlee1\\\\python310.zip', 'c:\\\\Users\\\\Eva\\\\miniconda3\\\\envs\\\\chihlee1\\\\DLLs', 'c:\\\\Users\\\\Eva\\\\miniconda3\\\\envs\\\\chihlee1\\\\lib', 'c:\\\\Users\\\\Eva\\\\miniconda3\\\\envs\\\\chihlee1', '', 'c:\\\\Users\\\\Eva\\\\miniconda3\\\\envs\\\\chihlee1\\\\lib\\\\site-packages', 'c:\\\\Users\\\\Eva\\\\miniconda3\\\\envs\\\\chihlee1\\\\lib\\\\site-packages\\\\win32', 'c:\\\\Users\\\\Eva\\\\miniconda3\\\\envs\\\\chihlee1\\\\lib\\\\site-packages\\\\win32\\\\lib', 'c:\\\\Users\\\\Eva\\\\miniconda3\\\\envs\\\\chihlee1\\\\lib\\\\site-packages\\\\Pythonwin']\n"
     ]
    }
   ],
   "source": [
    "#模組module的使用\n",
    "\n",
    "import token\n",
    "import sys\n",
    "\n",
    "print(sys.path)"
   ]
  }
 ],
 "metadata": {
  "kernelspec": {
   "display_name": "chihlee1",
   "language": "python",
   "name": "python3"
  },
  "language_info": {
   "codemirror_mode": {
    "name": "ipython",
    "version": 3
   },
   "file_extension": ".py",
   "mimetype": "text/x-python",
   "name": "python",
   "nbconvert_exporter": "python",
   "pygments_lexer": "ipython3",
   "version": "3.10.17"
  }
 },
 "nbformat": 4,
 "nbformat_minor": 5
}
