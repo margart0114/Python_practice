{
 "cells": [
  {
   "cell_type": "code",
   "execution_count": 1,
   "id": "bc948823",
   "metadata": {},
   "outputs": [
    {
     "name": "stdout",
     "output_type": "stream",
     "text": [
      "省電小達人\n",
      "用電100.0度,本月電費共320.0元\n",
      "========================\n",
      "用電量過大，請節約用電\n",
      "用電500.0度,本月電費共1700.0元\n",
      "========================\n"
     ]
    }
   ],
   "source": [
    "while True:\n",
    "  try:\n",
    "    num = float(input(\"請輸入用電數:\"))\n",
    "    output = 0\n",
    "    if num <=200:\n",
    "     output = num * 3.2\n",
    "     print(\"省電小達人\")\n",
    "    elif num > 200 and num <= 300:\n",
    "     output = 200*3.2 + (num-200)*3.4\n",
    "     print(\"用電量偏高，要注意!\")\n",
    "    else:\n",
    "     output = 200*3.2 + 100*3.4 + (num-300)*3.6\n",
    "     print(\"用電量過大，請節約用電\")\n",
    "    print(f\"用電{num}度,本月電費共{output}元\")\n",
    "    print(\"========================\")\n",
    "  except:\n",
    "    break"
   ]
  }
 ],
 "metadata": {
  "language_info": {
   "name": "python"
  }
 },
 "nbformat": 4,
 "nbformat_minor": 5
}
