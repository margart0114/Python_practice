{
 "cells": [
  {
   "cell_type": "code",
   "execution_count": 1,
   "id": "bc948823",
   "metadata": {},
   "outputs": [
    {
     "name": "stdout",
     "output_type": "stream",
     "text": [
      "省電小達人\n",
      "用電100.0度,本月電費共320.0元\n",
      "========================\n",
      "用電量過大，請節約用電\n",
      "用電500.0度,本月電費共1700.0元\n",
      "========================\n"
     ]
    }
   ],
   "source": [
    "while True:\n",
    "  try:\n",
    "    num = float(input(\"請輸入用電數:\"))\n",
    "    output = 0\n",
    "    if num <=200:\n",
    "     output = num * 3.2\n",
    "     print(\"省電小達人\")\n",
    "    elif num > 200 and num <= 300:\n",
    "     output = 200*3.2 + (num-200)*3.4\n",
    "     print(\"用電量偏高，要注意!\")\n",
    "    else:\n",
    "     output = 200*3.2 + 100*3.4 + (num-300)*3.6\n",
    "     print(\"用電量過大，請節約用電\")\n",
    "    print(f\"用電{num}度,本月電費共{output}元\")\n",
    "    print(\"========================\")\n",
    "  except:\n",
    "    break"
   ]
  },
  {
   "cell_type": "code",
   "execution_count": 2,
   "id": "323a0409",
   "metadata": {},
   "outputs": [
    {
     "name": "stdout",
     "output_type": "stream",
     "text": [
      "哈囉Eva你今年34歲\n"
     ]
    }
   ],
   "source": [
    "name = input (\"請輸入你的名字: \")\n",
    "age = input (\"請輸入你的年紀: \")\n",
    "print (\"哈囉\" + name + \"你今年\" + age + \"歲\")"
   ]
  },
  {
   "cell_type": "code",
   "execution_count": 9,
   "id": "e50b92d3",
   "metadata": {},
   "outputs": [
    {
     "name": "stdout",
     "output_type": "stream",
     "text": [
      "13.8\n"
     ]
    }
   ],
   "source": [
    "number1 = input (\"請輸入第一個數字: \")\n",
    "number2= input (\"請輸入第二個數字: \")\n",
    "print (float(number1) + float(number2))"
   ]
  }
 ],
 "metadata": {
  "language_info": {
   "name": "python"
  }
 },
 "nbformat": 4,
 "nbformat_minor": 5
}
