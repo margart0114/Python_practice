{
 "cells": [
  {
   "cell_type": "code",
   "execution_count": 25,
   "id": "c19a6448",
   "metadata": {},
   "outputs": [
    {
     "name": "stdout",
     "output_type": "stream",
     "text": [
      "我就走路去上班\n"
     ]
    }
   ],
   "source": [
    "# if判斷句\n",
    "\n",
    "hungry = False\n",
    "if hungry:\n",
    "    print(\"我就去吃飯\")\n",
    "\n",
    "rainy = False\n",
    "if rainy:\n",
    "    print(\"我就開車去上班\")\n",
    "else:\n",
    "    print(\"我就走路去上班\")\n"
   ]
  },
  {
   "cell_type": "code",
   "execution_count": 26,
   "id": "f449e3fa",
   "metadata": {},
   "outputs": [
    {
     "name": "stdout",
     "output_type": "stream",
     "text": [
      "我給你500元\n"
     ]
    }
   ],
   "source": [
    "score = 85\n",
    "if score == 100:\n",
    "    print(\"我給你1000元\")\n",
    "elif score >=80:\n",
    "    print(\"我給你500元\")\n",
    "elif score >=60:\n",
    "    print(\"我給你100元\")\n",
    "else:\n",
    "    print(\"你給我300元\")\n",
    "    "
   ]
  },
  {
   "cell_type": "code",
   "execution_count": 27,
   "id": "f63b3d46",
   "metadata": {},
   "outputs": [
    {
     "name": "stdout",
     "output_type": "stream",
     "text": [
      "優秀\n"
     ]
    }
   ],
   "source": [
    "score = float(input(\"請輸入分數\"))\n",
    "output = 0\n",
    "\n",
    "if score == 100:\n",
    "    print(\"優秀\")\n",
    "elif score >= 80:\n",
    "    print(\"甲\")\n",
    "elif score >= 60:\n",
    "    print(\"乙\")\n",
    "else:\n",
    "    print(\"不及格，請再加油\")\n"
   ]
  },
  {
   "cell_type": "code",
   "execution_count": null,
   "id": "5ddaab6e",
   "metadata": {},
   "outputs": [
    {
     "name": "stdout",
     "output_type": "stream",
     "text": [
      "你給我100元\n"
     ]
    }
   ],
   "source": [
    "score = 100\n",
    "rainy = True\n",
    "if score == 100 and rainy: \n",
    "    #and的左右都需要為True，才會執行if裡面的程式，否則就會執行else裡面的程式\n",
    "    print(\"我給你1000元\")\n",
    "else:\n",
    "    print(\"你給我100元\")"
   ]
  },
  {
   "cell_type": "code",
   "execution_count": null,
   "id": "353a8e43",
   "metadata": {},
   "outputs": [
    {
     "name": "stdout",
     "output_type": "stream",
     "text": [
      "你給我100元\n"
     ]
    }
   ],
   "source": [
    "score = 90\n",
    "rainy = False\n",
    "if score == 100 or rainy: \n",
    "    #or是左、右有一個為True, 就會執行if裡面的程式，否則就會執行else裡面的程式\n",
    "    print(\"我給你1000元\")\n",
    "else:\n",
    "    print(\"你給我100元\")"
   ]
  },
  {
   "cell_type": "code",
   "execution_count": 35,
   "id": "1761b6b0",
   "metadata": {},
   "outputs": [
    {
     "name": "stdout",
     "output_type": "stream",
     "text": [
      "我給你1000元\n"
     ]
    }
   ],
   "source": [
    "score = 90\n",
    "rainy = False\n",
    "if score == 100 or not(rainy): \n",
    "    print(\"我給你1000元\")\n",
    "else:\n",
    "    print(\"你給我100元\")"
   ]
  },
  {
   "cell_type": "code",
   "execution_count": 38,
   "id": "ad95788e",
   "metadata": {},
   "outputs": [
    {
     "name": "stdout",
     "output_type": "stream",
     "text": [
      "你給我100元\n"
     ]
    }
   ],
   "source": [
    "score = 100\n",
    "rainy = True\n",
    "if score != 100 or not(rainy): #你沒有考100分\n",
    "    print(\"我給你1000元\")\n",
    "else:\n",
    "    print(\"你給我100元\")"
   ]
  },
  {
   "cell_type": "code",
   "execution_count": 43,
   "id": "06b23cde",
   "metadata": {},
   "outputs": [
    {
     "name": "stdout",
     "output_type": "stream",
     "text": [
      "100\n"
     ]
    }
   ],
   "source": [
    "def max_num(num1, num2, num3):\n",
    "    if num1 >= num2 and num1 >= num3:\n",
    "        return num1\n",
    "    elif num2 >= num1 and num2 >= num3:\n",
    "        return num2\n",
    "    else:\n",
    "        return num3 \n",
    "    \n",
    "print(max_num(100,5,14.2))\n"
   ]
  }
 ],
 "metadata": {
  "kernelspec": {
   "display_name": "chihlee1",
   "language": "python",
   "name": "python3"
  },
  "language_info": {
   "codemirror_mode": {
    "name": "ipython",
    "version": 3
   },
   "file_extension": ".py",
   "mimetype": "text/x-python",
   "name": "python",
   "nbconvert_exporter": "python",
   "pygments_lexer": "ipython3",
   "version": "3.10.16"
  }
 },
 "nbformat": 4,
 "nbformat_minor": 5
}
