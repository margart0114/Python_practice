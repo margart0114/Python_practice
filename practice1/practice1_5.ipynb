{
 "cells": [
  {
   "cell_type": "code",
   "execution_count": 21,
   "id": "e358700c",
   "metadata": {},
   "outputs": [
    {
     "name": "stdout",
     "output_type": "stream",
     "text": [
      "hello小白你今年77歲\n"
     ]
    }
   ],
   "source": [
    "#函式 function\n",
    "def hello(name, age):\n",
    "    print(\"hello\" + name + \"你今年\" + str(age) +\"歲\")\n",
    "\n",
    "hello(\"小白\", 77)"
   ]
  },
  {
   "cell_type": "code",
   "execution_count": 22,
   "id": "c25a8437",
   "metadata": {},
   "outputs": [
    {
     "name": "stdout",
     "output_type": "stream",
     "text": [
      "3.6\n"
     ]
    }
   ],
   "source": [
    "def add(number1, number2):\n",
    "    print(number1*number2)\n",
    "\n",
    "add(1.8,2)"
   ]
  },
  {
   "cell_type": "code",
   "execution_count": 23,
   "id": "b760b169",
   "metadata": {},
   "outputs": [
    {
     "data": {
      "text/plain": [
       "3.6"
      ]
     },
     "execution_count": 23,
     "metadata": {},
     "output_type": "execute_result"
    }
   ],
   "source": [
    "def add(number1, number2):\n",
    "    \n",
    "    return number1 * number2\n",
    "\n",
    "add(1.8,2)"
   ]
  },
  {
   "cell_type": "code",
   "execution_count": 27,
   "id": "ad3b5cf3",
   "metadata": {},
   "outputs": [
    {
     "name": "stdout",
     "output_type": "stream",
     "text": [
      "7\n",
      "10\n"
     ]
    }
   ],
   "source": [
    "def add(number1, number2):\n",
    "    print(number1+number2)\n",
    "    return 10 #如果函式遇到return，不會再執行下面的程式\n",
    "    print(\"你好\")\n",
    "\n",
    "\n",
    "value=add(3,4)\n",
    "print(value)"
   ]
  }
 ],
 "metadata": {
  "kernelspec": {
   "display_name": "chihlee1",
   "language": "python",
   "name": "python3"
  },
  "language_info": {
   "codemirror_mode": {
    "name": "ipython",
    "version": 3
   },
   "file_extension": ".py",
   "mimetype": "text/x-python",
   "name": "python",
   "nbconvert_exporter": "python",
   "pygments_lexer": "ipython3",
   "version": "3.10.17"
  }
 },
 "nbformat": 4,
 "nbformat_minor": 5
}
