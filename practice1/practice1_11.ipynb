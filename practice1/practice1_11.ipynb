{
 "cells": [
  {
   "cell_type": "code",
   "execution_count": 5,
   "id": "063cea8a",
   "metadata": {},
   "outputs": [
    {
     "name": "stdout",
     "output_type": "stream",
     "text": [
      "8\n"
     ]
    }
   ],
   "source": [
    "#2維列表、巢狀迴圈\n",
    "\n",
    "nums = [\n",
    "    [0,1,2],\n",
    "    [3,4,5],\n",
    "    [6,7,8],\n",
    "    [9]\n",
    "]\n",
    "\n",
    "print(nums[2][2])\n"
   ]
  },
  {
   "cell_type": "code",
   "execution_count": null,
   "id": "08bb2ea3",
   "metadata": {},
   "outputs": [
    {
     "name": "stdout",
     "output_type": "stream",
     "text": [
      "0\n",
      "1\n",
      "2\n",
      "3\n",
      "4\n",
      "5\n",
      "6\n",
      "7\n",
      "8\n",
      "9\n"
     ]
    }
   ],
   "source": [
    "# row = 行\n",
    "# column = col = 列\n",
    "\n",
    "nums = [\n",
    "    [0,1,2],\n",
    "    [3,4,5],\n",
    "    [6,7,8],\n",
    "    [9]\n",
    "]\n",
    "\n",
    "for row in nums:\n",
    "    for col in row:\n",
    "        print(col)"
   ]
  },
  {
   "cell_type": "code",
   "execution_count": null,
   "id": "7701094e",
   "metadata": {},
   "outputs": [],
   "source": []
  }
 ],
 "metadata": {
  "kernelspec": {
   "display_name": "chihlee1",
   "language": "python",
   "name": "python3"
  },
  "language_info": {
   "codemirror_mode": {
    "name": "ipython",
    "version": 3
   },
   "file_extension": ".py",
   "mimetype": "text/x-python",
   "name": "python",
   "nbconvert_exporter": "python",
   "pygments_lexer": "ipython3",
   "version": "3.10.17"
  }
 },
 "nbformat": 4,
 "nbformat_minor": 5
}
