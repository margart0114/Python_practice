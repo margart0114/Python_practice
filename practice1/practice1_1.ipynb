{
  "cells": [
    {
      "cell_type": "markdown",
      "metadata": {
        "colab_type": "text",
        "id": "view-in-github"
      },
      "source": [
        "<a href=\"https://colab.research.google.com/github/margart0114/Python_practice/blob/main/practice1/practice1_1.ipynb\" target=\"_parent\"><img src=\"https://colab.research.google.com/assets/colab-badge.svg\" alt=\"Open In Colab\"/></a>"
      ]
    },
    {
      "cell_type": "markdown",
      "metadata": {
        "id": "rn3SmOKngMtd"
      },
      "source": [
        "###電度數 0～200 度，每度 3.2 元。\n",
        "###電度數 201～ 300 度，每度 3.4 元。\n",
        "###電度數大於 300 度，每度 3.6 元。"
      ]
    },
    {
      "cell_type": "code",
      "execution_count": 3,
      "metadata": {
        "colab": {
          "base_uri": "https://localhost:8080/"
        },
        "id": "TwLxUZG-frmb",
        "outputId": "64a0b6d8-60e5-4714-b393-ab0f8a46c68f"
      },
      "outputs": [],
      "source": [
        "while True:\n",
        "  try:\n",
        "    num = float(input(\"請輸入用電數:\"))\n",
        "    output = 0\n",
        "    if num <=200:\n",
        "     output = num * 3.2\n",
        "     print(\"省電小達人\")\n",
        "    elif num > 200 and num <= 300:\n",
        "     output = 200*3.2 + (num-200)*3.4\n",
        "     print(\"用電量偏高，要注意!\")\n",
        "    else:\n",
        "     output = 200*3.2 + 100*3.4 + (num-300)*3.6\n",
        "     print(\"用電量過大，請節約用電\")\n",
        "    print(f\"用電{num}度,本月電費共{output}元\")\n",
        "    print(\"========================\")\n",
        "  except:\n",
        "    break\n"
      ]
    }
  ],
  "metadata": {
    "colab": {
      "authorship_tag": "ABX9TyP/sq7V0vPcYp6VVD44ZkZu",
      "include_colab_link": true,
      "provenance": []
    },
    "kernelspec": {
      "display_name": "chihlee1",
      "language": "python",
      "name": "python3"
    },
    "language_info": {
      "codemirror_mode": {
        "name": "ipython",
        "version": 3
      },
      "file_extension": ".py",
      "mimetype": "text/x-python",
      "name": "python",
      "nbconvert_exporter": "python",
      "pygments_lexer": "ipython3",
      "version": "3.10.16"
    }
  },
  "nbformat": 4,
  "nbformat_minor": 0
}
