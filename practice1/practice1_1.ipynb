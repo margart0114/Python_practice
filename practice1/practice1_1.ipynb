{
  "nbformat": 4,
  "nbformat_minor": 0,
  "metadata": {
    "colab": {
      "provenance": [],
      "authorship_tag": "ABX9TyNyWEM8hqUqFIw6/nT2qum/",
      "include_colab_link": true
    },
    "kernelspec": {
      "name": "python3",
      "display_name": "Python 3"
    },
    "language_info": {
      "name": "python"
    }
  },
  "cells": [
    {
      "cell_type": "markdown",
      "metadata": {
        "id": "view-in-github",
        "colab_type": "text"
      },
      "source": [
        "<a href=\"https://colab.research.google.com/github/margart0114/Python_practice/blob/main/practice1/practice1_1.ipynb\" target=\"_parent\"><img src=\"https://colab.research.google.com/assets/colab-badge.svg\" alt=\"Open In Colab\"/></a>"
      ]
    },
    {
      "cell_type": "markdown",
      "source": [
        "###電度數 0～200 度，每度 3.2 元。\n",
        "###電度數 201～ 300 度，每度 3.4 元。\n",
        "###電度數大於 300 度，每度 3.6 元。"
      ],
      "metadata": {
        "id": "rn3SmOKngMtd"
      }
    },
    {
      "cell_type": "code",
      "execution_count": null,
      "metadata": {
        "id": "TwLxUZG-frmb"
      },
      "outputs": [],
      "source": [
        "while True:\n",
        "  try:\n",
        "    num = float(input(\"請輸入用電數\"))\n",
        "    if num <= 200:\n",
        "      output = num * 3.2\n",
        "      print(\"省電小達人\")\n",
        "    elif num >= 201 and num <= 300:\n",
        "      output = 200 * 3.2 + (num-200) * 3.4\n",
        "      print(\"要注意用電量\")\n",
        "    else:\n",
        "      output = 200 * 3.2 + 100 * 3.4 + (num-300) * 3.6\n",
        "      print(\"電費超量了!!\")\n",
        "\n",
        "    print(f\"用電{num}度共{output}元\")\n",
        "    print(\"==========\")\n",
        "  except:\n",
        "    break"
      ]
    }
  ]
}