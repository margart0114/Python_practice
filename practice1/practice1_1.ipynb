{
  "nbformat": 4,
  "nbformat_minor": 0,
  "metadata": {
    "colab": {
      "provenance": [],
      "authorship_tag": "ABX9TyN6hqFsDtjIFNGIlRArISfU",
      "include_colab_link": true
    },
    "kernelspec": {
      "name": "python3",
      "display_name": "Python 3"
    },
    "language_info": {
      "name": "python"
    }
  },
  "cells": [
    {
      "cell_type": "markdown",
      "metadata": {
        "id": "view-in-github",
        "colab_type": "text"
      },
      "source": [
        "<a href=\"https://colab.research.google.com/github/margart0114/Python_practice/blob/main/practice1/practice1_1.ipynb\" target=\"_parent\"><img src=\"https://colab.research.google.com/assets/colab-badge.svg\" alt=\"Open In Colab\"/></a>"
      ]
    },
    {
      "cell_type": "markdown",
      "source": [
        "###電度數 0～200 度，每度 3.2 元。\n",
        "###電度數 201～ 300 度，每度 3.4 元。\n",
        "###電度數大於 300 度，每度 3.6 元。"
      ],
      "metadata": {
        "id": "rn3SmOKngMtd"
      }
    },
    {
      "cell_type": "code",
      "execution_count": 12,
      "metadata": {
        "id": "TwLxUZG-frmb",
        "colab": {
          "base_uri": "https://localhost:8080/"
        },
        "outputId": "7c6b3b4c-e5c8-4a27-b57e-92448c1718ac"
      },
      "outputs": [
        {
          "output_type": "stream",
          "name": "stdout",
          "text": [
            "請輸入用電數:500\n",
            "用電量過大，請節約用電\n",
            "用電500.0度共1700.0元\n",
            "========================\n",
            "請輸入用電數:350\n",
            "用電量過大，請節約用電\n",
            "用電350.0度共1160.0元\n",
            "========================\n",
            "請輸入用電數:100\n",
            "省電小達人\n",
            "用電100.0度共320.0元\n",
            "========================\n",
            "請輸入用電數:250\n",
            "用電量偏高，要注意!\n",
            "用電250.0度共810.0元\n",
            "========================\n"
          ]
        }
      ],
      "source": [
        "while True:\n",
        "  try:\n",
        "    num = float(input(\"請輸入用電數:\"))\n",
        "    output = 0\n",
        "    if num <=200:\n",
        "     output = num * 3.2\n",
        "     print(\"省電小達人\")\n",
        "    elif num > 200 and num <= 300:\n",
        "     output = 200*3.2 + (num-200)*3.4\n",
        "     print(\"用電量偏高，要注意!\")\n",
        "    else:\n",
        "     output = 200*3.2 + 100*3.4 + (num-300)*3.6\n",
        "     print(\"用電量過大，請節約用電\")\n",
        "    print(f\"用電{num}度共{output}元\")\n",
        "    print(\"========================\")\n",
        "  except:\n",
        "    break\n"
      ]
    }
  ]
}