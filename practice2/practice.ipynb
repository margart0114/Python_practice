{
 "cells": [
  {
   "cell_type": "code",
   "execution_count": null,
   "id": "2c61d637",
   "metadata": {},
   "outputs": [
    {
     "ename": "SyntaxError",
     "evalue": "unexpected character after line continuation character (4025120477.py, line 2)",
     "output_type": "error",
     "traceback": [
      "\u001b[1;36m  Cell \u001b[1;32mIn[2], line 2\u001b[1;36m\u001b[0m\n\u001b[1;33m    \"1+3=?\"\\n (a) 2\\n (b) 3\\n (c) 4\\n\\n\",\u001b[0m\n\u001b[1;37m            ^\u001b[0m\n\u001b[1;31mSyntaxError\u001b[0m\u001b[1;31m:\u001b[0m unexpected character after line continuation character\n"
     ]
    }
   ],
   "source": [
    "from question import Question\n",
    "\n",
    "test = [\n",
    "    \"1+3=?\"\\n (a) 2\\n (b) 3\\n (c) 4\\n\\n\",\n",
    "    \"1公尺等於幾公分\"\\n (a) 10\\n (b) 100\\n (c) 1000\\n\\n\",\n",
    "    \"香蕉是什麼顏色?\\n (a) 黑色\\n (b) 黃色\\n (c) 白色\\n\\n\"\n",
    "]\n"
   ]
  }
 ],
 "metadata": {
  "kernelspec": {
   "display_name": "chihlee1",
   "language": "python",
   "name": "python3"
  },
  "language_info": {
   "codemirror_mode": {
    "name": "ipython",
    "version": 3
   },
   "file_extension": ".py",
   "mimetype": "text/x-python",
   "name": "python",
   "nbconvert_exporter": "python",
   "pygments_lexer": "ipython3",
   "version": "3.10.17"
  }
 },
 "nbformat": 4,
 "nbformat_minor": 5
}
