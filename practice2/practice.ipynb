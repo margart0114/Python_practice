{
 "cells": [
  {
   "cell_type": "code",
   "execution_count": 11,
   "id": "2c61d637",
   "metadata": {},
   "outputs": [
    {
     "ename": "ModuleNotFoundError",
     "evalue": "No module named 'question'",
     "output_type": "error",
     "traceback": [
      "\u001b[1;31m---------------------------------------------------------------------------\u001b[0m",
      "\u001b[1;31mModuleNotFoundError\u001b[0m                       Traceback (most recent call last)",
      "Cell \u001b[1;32mIn[11], line 1\u001b[0m\n\u001b[1;32m----> 1\u001b[0m \u001b[38;5;28;01mfrom\u001b[39;00m\u001b[38;5;250m \u001b[39m\u001b[38;5;21;01mquestion\u001b[39;00m\u001b[38;5;250m \u001b[39m\u001b[38;5;28;01mimport\u001b[39;00m Question\n\u001b[0;32m      3\u001b[0m test \u001b[38;5;241m=\u001b[39m [\n\u001b[0;32m      4\u001b[0m     \u001b[38;5;124m\"\u001b[39m\u001b[38;5;124m1+3=?\u001b[39m\u001b[38;5;130;01m\\n\u001b[39;00m\u001b[38;5;124m(a) 2\u001b[39m\u001b[38;5;130;01m\\n\u001b[39;00m\u001b[38;5;124m (b) 3\u001b[39m\u001b[38;5;130;01m\\n\u001b[39;00m\u001b[38;5;124m (c) 4\u001b[39m\u001b[38;5;130;01m\\n\u001b[39;00m\u001b[38;5;130;01m\\n\u001b[39;00m\u001b[38;5;124m\"\u001b[39m,\n\u001b[0;32m      5\u001b[0m     \u001b[38;5;124m\"\u001b[39m\u001b[38;5;124m1公尺等於幾公分\u001b[39m\u001b[38;5;130;01m\\n\u001b[39;00m\u001b[38;5;124m (a) 10\u001b[39m\u001b[38;5;130;01m\\n\u001b[39;00m\u001b[38;5;124m (b) 100\u001b[39m\u001b[38;5;130;01m\\n\u001b[39;00m\u001b[38;5;124m (c) 1000\u001b[39m\u001b[38;5;130;01m\\n\u001b[39;00m\u001b[38;5;130;01m\\n\u001b[39;00m\u001b[38;5;124m\"\u001b[39m,\n\u001b[0;32m      6\u001b[0m     \u001b[38;5;124m\"\u001b[39m\u001b[38;5;124m香蕉是什麼顏色?\u001b[39m\u001b[38;5;130;01m\\n\u001b[39;00m\u001b[38;5;124m (a) 黑色\u001b[39m\u001b[38;5;130;01m\\n\u001b[39;00m\u001b[38;5;124m (b) 黃色\u001b[39m\u001b[38;5;130;01m\\n\u001b[39;00m\u001b[38;5;124m (c) 白色\u001b[39m\u001b[38;5;130;01m\\n\u001b[39;00m\u001b[38;5;130;01m\\n\u001b[39;00m\u001b[38;5;124m\"\u001b[39m\n\u001b[0;32m      7\u001b[0m ]\n\u001b[0;32m      9\u001b[0m questions \u001b[38;5;241m=\u001b[39m [\n\u001b[0;32m     10\u001b[0m     Question(test[\u001b[38;5;241m0\u001b[39m],\u001b[38;5;124m\"\u001b[39m\u001b[38;5;124mc\u001b[39m\u001b[38;5;124m\"\u001b[39m),\n\u001b[0;32m     11\u001b[0m     Question(test[\u001b[38;5;241m1\u001b[39m],\u001b[38;5;124m\"\u001b[39m\u001b[38;5;124mb\u001b[39m\u001b[38;5;124m\"\u001b[39m),\n\u001b[0;32m     12\u001b[0m     Question(test[\u001b[38;5;241m2\u001b[39m],\u001b[38;5;124m\"\u001b[39m\u001b[38;5;124mb\u001b[39m\u001b[38;5;124m\"\u001b[39m),\n\u001b[0;32m     13\u001b[0m ]\n",
      "\u001b[1;31mModuleNotFoundError\u001b[0m: No module named 'question'"
     ]
    }
   ],
   "source": [
    "from question import Question\n",
    "\n",
    "test = [\n",
    "    \"1+3=?\\n(a) 2\\n (b) 3\\n (c) 4\\n\\n\",\n",
    "    \"1公尺等於幾公分\\n (a) 10\\n (b) 100\\n (c) 1000\\n\\n\",\n",
    "    \"香蕉是什麼顏色?\\n (a) 黑色\\n (b) 黃色\\n (c) 白色\\n\\n\"\n",
    "]\n",
    "\n",
    "questions = [\n",
    "    Question(test[0],\"c\"),\n",
    "    Question(test[1],\"b\"),\n",
    "    Question(test[2],\"b\"),\n",
    "]\n",
    "\n",
    "def run_test(questions):\n",
    "    score = 0\n",
    "    for question in questions:\n",
    "        answer = input(question,description)\n",
    "        if answer == question.answer:\n",
    "            score =+ 1\n",
    "\n",
    "    print(\"你得到\" + str(score) +\"分，共\" + str(len(questions)) + \"題\")\n",
    "\n",
    "run_test(questions)\n"
   ]
  }
 ],
 "metadata": {
  "kernelspec": {
   "display_name": "chihlee1",
   "language": "python",
   "name": "python3"
  },
  "language_info": {
   "codemirror_mode": {
    "name": "ipython",
    "version": 3
   },
   "file_extension": ".py",
   "mimetype": "text/x-python",
   "name": "python",
   "nbconvert_exporter": "python",
   "pygments_lexer": "ipython3",
   "version": "3.10.17"
  }
 },
 "nbformat": 4,
 "nbformat_minor": 5
}
