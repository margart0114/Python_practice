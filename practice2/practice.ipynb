{
 "cells": [
  {
   "cell_type": "code",
   "execution_count": null,
   "id": "2c61d637",
   "metadata": {
    "vscode": {
     "languageId": "plaintext"
    }
   },
   "outputs": [],
   "source": [
    "test = [\n",
    "    \"1+3=?\"\\n (a) 2\\n (b) 3\\n (c) 4\\n\\n\",\n",
    "    \"1公尺等於幾公分\"\\n (a) 10\\n (b) 100\\n (c) 1000\\n\\n\",\n",
    "    \"香蕉是什麼顏色?\\n (a) 黑色\\n (b) 黃色\\n (c) 白色\\n\\n\"\n",
    "]"
   ]
  }
 ],
 "metadata": {
  "language_info": {
   "name": "python"
  }
 },
 "nbformat": 4,
 "nbformat_minor": 5
}
